{
  "nbformat": 4,
  "nbformat_minor": 0,
  "metadata": {
    "colab": {
      "name": "Hamoye_Stage_C.ipynb",
      "provenance": [],
      "collapsed_sections": [
        "OXCQwcsyOZMX",
        "fpBUHEWt1EhH"
      ]
    },
    "kernelspec": {
      "name": "python3",
      "display_name": "Python 3"
    },
    "language_info": {
      "name": "python"
    }
  },
  "cells": [
    {
      "cell_type": "markdown",
      "metadata": {
        "id": "OXCQwcsyOZMX"
      },
      "source": [
        "#Stability of Grid System :\n",
        "\n",
        "##Problem Statement : \n",
        "Electrical grids require a balance between electricity supply and demand in order to be stable. Conventional systems achieve this balance through demand-driven electricity production. For future grids with a high share of inflexible (i.e., renewable) energy source, the concept of demand response is a promising solution. This implies changes in electricity consumption in relation to electricity price changes. In this work, we’ll build a binary classification model to predict if a grid is stable or unstable using the UCI Electrical Grid Stability Simulated dataset.\n",
        "\n",
        "Dataset: https://archive.ics.uci.edu/ml/datasets/Electrical+Grid+Stability+Simulated+Data+\n"
      ]
    },
    {
      "cell_type": "code",
      "metadata": {
        "id": "HiDK9wiwOlIC"
      },
      "source": [
        "#The first step in this problem would be to import the required packages.\n",
        "\n",
        "import numpy as np\n",
        "import pandas as pd\n",
        "import matplotlib.pyplot as plt\n",
        "import seaborn as sns\n",
        "import warnings\n",
        "warnings.filterwarnings('ignore')"
      ],
      "execution_count": 110,
      "outputs": []
    },
    {
      "cell_type": "code",
      "metadata": {
        "colab": {
          "base_uri": "https://localhost:8080/",
          "height": 203
        },
        "id": "qaDtfN7iPOpq",
        "outputId": "80fd41b5-c186-4943-d5a9-bc0261f1b8bb"
      },
      "source": [
        "#Now, for the first step, we import the data as a pandas dataframe for further processing\n",
        "\n",
        "df = pd.read_csv ('https://archive.ics.uci.edu/ml/machine-learning-databases/00471/Data_for_UCI_named.csv')\n",
        "df.head()"
      ],
      "execution_count": 111,
      "outputs": [
        {
          "output_type": "execute_result",
          "data": {
            "text/html": [
              "<div>\n",
              "<style scoped>\n",
              "    .dataframe tbody tr th:only-of-type {\n",
              "        vertical-align: middle;\n",
              "    }\n",
              "\n",
              "    .dataframe tbody tr th {\n",
              "        vertical-align: top;\n",
              "    }\n",
              "\n",
              "    .dataframe thead th {\n",
              "        text-align: right;\n",
              "    }\n",
              "</style>\n",
              "<table border=\"1\" class=\"dataframe\">\n",
              "  <thead>\n",
              "    <tr style=\"text-align: right;\">\n",
              "      <th></th>\n",
              "      <th>tau1</th>\n",
              "      <th>tau2</th>\n",
              "      <th>tau3</th>\n",
              "      <th>tau4</th>\n",
              "      <th>p1</th>\n",
              "      <th>p2</th>\n",
              "      <th>p3</th>\n",
              "      <th>p4</th>\n",
              "      <th>g1</th>\n",
              "      <th>g2</th>\n",
              "      <th>g3</th>\n",
              "      <th>g4</th>\n",
              "      <th>stab</th>\n",
              "      <th>stabf</th>\n",
              "    </tr>\n",
              "  </thead>\n",
              "  <tbody>\n",
              "    <tr>\n",
              "      <th>0</th>\n",
              "      <td>2.959060</td>\n",
              "      <td>3.079885</td>\n",
              "      <td>8.381025</td>\n",
              "      <td>9.780754</td>\n",
              "      <td>3.763085</td>\n",
              "      <td>-0.782604</td>\n",
              "      <td>-1.257395</td>\n",
              "      <td>-1.723086</td>\n",
              "      <td>0.650456</td>\n",
              "      <td>0.859578</td>\n",
              "      <td>0.887445</td>\n",
              "      <td>0.958034</td>\n",
              "      <td>0.055347</td>\n",
              "      <td>unstable</td>\n",
              "    </tr>\n",
              "    <tr>\n",
              "      <th>1</th>\n",
              "      <td>9.304097</td>\n",
              "      <td>4.902524</td>\n",
              "      <td>3.047541</td>\n",
              "      <td>1.369357</td>\n",
              "      <td>5.067812</td>\n",
              "      <td>-1.940058</td>\n",
              "      <td>-1.872742</td>\n",
              "      <td>-1.255012</td>\n",
              "      <td>0.413441</td>\n",
              "      <td>0.862414</td>\n",
              "      <td>0.562139</td>\n",
              "      <td>0.781760</td>\n",
              "      <td>-0.005957</td>\n",
              "      <td>stable</td>\n",
              "    </tr>\n",
              "    <tr>\n",
              "      <th>2</th>\n",
              "      <td>8.971707</td>\n",
              "      <td>8.848428</td>\n",
              "      <td>3.046479</td>\n",
              "      <td>1.214518</td>\n",
              "      <td>3.405158</td>\n",
              "      <td>-1.207456</td>\n",
              "      <td>-1.277210</td>\n",
              "      <td>-0.920492</td>\n",
              "      <td>0.163041</td>\n",
              "      <td>0.766689</td>\n",
              "      <td>0.839444</td>\n",
              "      <td>0.109853</td>\n",
              "      <td>0.003471</td>\n",
              "      <td>unstable</td>\n",
              "    </tr>\n",
              "    <tr>\n",
              "      <th>3</th>\n",
              "      <td>0.716415</td>\n",
              "      <td>7.669600</td>\n",
              "      <td>4.486641</td>\n",
              "      <td>2.340563</td>\n",
              "      <td>3.963791</td>\n",
              "      <td>-1.027473</td>\n",
              "      <td>-1.938944</td>\n",
              "      <td>-0.997374</td>\n",
              "      <td>0.446209</td>\n",
              "      <td>0.976744</td>\n",
              "      <td>0.929381</td>\n",
              "      <td>0.362718</td>\n",
              "      <td>0.028871</td>\n",
              "      <td>unstable</td>\n",
              "    </tr>\n",
              "    <tr>\n",
              "      <th>4</th>\n",
              "      <td>3.134112</td>\n",
              "      <td>7.608772</td>\n",
              "      <td>4.943759</td>\n",
              "      <td>9.857573</td>\n",
              "      <td>3.525811</td>\n",
              "      <td>-1.125531</td>\n",
              "      <td>-1.845975</td>\n",
              "      <td>-0.554305</td>\n",
              "      <td>0.797110</td>\n",
              "      <td>0.455450</td>\n",
              "      <td>0.656947</td>\n",
              "      <td>0.820923</td>\n",
              "      <td>0.049860</td>\n",
              "      <td>unstable</td>\n",
              "    </tr>\n",
              "  </tbody>\n",
              "</table>\n",
              "</div>"
            ],
            "text/plain": [
              "       tau1      tau2      tau3  ...        g4      stab     stabf\n",
              "0  2.959060  3.079885  8.381025  ...  0.958034  0.055347  unstable\n",
              "1  9.304097  4.902524  3.047541  ...  0.781760 -0.005957    stable\n",
              "2  8.971707  8.848428  3.046479  ...  0.109853  0.003471  unstable\n",
              "3  0.716415  7.669600  4.486641  ...  0.362718  0.028871  unstable\n",
              "4  3.134112  7.608772  4.943759  ...  0.820923  0.049860  unstable\n",
              "\n",
              "[5 rows x 14 columns]"
            ]
          },
          "metadata": {},
          "execution_count": 111
        }
      ]
    },
    {
      "cell_type": "code",
      "metadata": {
        "colab": {
          "base_uri": "https://localhost:8080/"
        },
        "id": "o-EiXFGtPuX_",
        "outputId": "af60c852-0fe7-4972-bea8-7bbfd6d2d8af"
      },
      "source": [
        "#We first have a look at the data using info function\n",
        "\n",
        "df.info()"
      ],
      "execution_count": 112,
      "outputs": [
        {
          "output_type": "stream",
          "name": "stdout",
          "text": [
            "<class 'pandas.core.frame.DataFrame'>\n",
            "RangeIndex: 10000 entries, 0 to 9999\n",
            "Data columns (total 14 columns):\n",
            " #   Column  Non-Null Count  Dtype  \n",
            "---  ------  --------------  -----  \n",
            " 0   tau1    10000 non-null  float64\n",
            " 1   tau2    10000 non-null  float64\n",
            " 2   tau3    10000 non-null  float64\n",
            " 3   tau4    10000 non-null  float64\n",
            " 4   p1      10000 non-null  float64\n",
            " 5   p2      10000 non-null  float64\n",
            " 6   p3      10000 non-null  float64\n",
            " 7   p4      10000 non-null  float64\n",
            " 8   g1      10000 non-null  float64\n",
            " 9   g2      10000 non-null  float64\n",
            " 10  g3      10000 non-null  float64\n",
            " 11  g4      10000 non-null  float64\n",
            " 12  stab    10000 non-null  float64\n",
            " 13  stabf   10000 non-null  object \n",
            "dtypes: float64(13), object(1)\n",
            "memory usage: 1.1+ MB\n"
          ]
        }
      ]
    },
    {
      "cell_type": "markdown",
      "metadata": {
        "id": "V55I1oiFQJ2Z"
      },
      "source": [
        "The data has 12 primary predictive features and two dependent variables.\n",
        "\n",
        "**Predictive features:**\n",
        "\n",
        "'tau1' to 'tau4': the reaction time of each network participant, a real value within the range 0.5 to 10 ('tau1' corresponds to the supplier node, 'tau2' to 'tau4' to the consumer nodes);\n",
        "\n",
        "'p1' to 'p4': nominal power produced (positive) or consumed (negative) by each network participant, a real value within the range -2.0 to -0.5 for consumers ('p2' to 'p4'). As the total power consumed equals the total power generated, p1 (supplier node) = - (p2 + p3 + p4);\n",
        "\n",
        "'g1' to 'g4': price elasticity coefficient for each network participant, a real value within the range 0.05 to 1.00 ('g1' corresponds to the supplier node, 'g2' to 'g4' to the consumer nodes; 'g' stands for 'gamma');\n",
        "\n",
        "**Dependent variables:**\n",
        "\n",
        "'stab': the maximum real part of the characteristic differential equation root (if positive, the system is linearly unstable; if negative, linearly stable);\n",
        "\n",
        "'stabf': a categorical (binary) label ('stable' or 'unstable')."
      ]
    },
    {
      "cell_type": "code",
      "metadata": {
        "id": "z6zWtM82QII8"
      },
      "source": [
        "#We can observe that 'stab' and 'stabf' share a direct relation i.e. 'stabf' = 'stable' if 'stab' <= 0, 'unstable' otherwise\n",
        "#Hence, we go ahead and drop 'stab'\n",
        "\n",
        "df.drop('stab',axis=1,inplace=True)"
      ],
      "execution_count": 113,
      "outputs": []
    },
    {
      "cell_type": "code",
      "metadata": {
        "colab": {
          "base_uri": "https://localhost:8080/"
        },
        "id": "B0byycD7R2kA",
        "outputId": "cf9ce857-e12b-4e76-a0e2-51fb80542448"
      },
      "source": [
        "#We check for null values\n",
        "\n",
        "df.isnull().sum()"
      ],
      "execution_count": 114,
      "outputs": [
        {
          "output_type": "execute_result",
          "data": {
            "text/plain": [
              "tau1     0\n",
              "tau2     0\n",
              "tau3     0\n",
              "tau4     0\n",
              "p1       0\n",
              "p2       0\n",
              "p3       0\n",
              "p4       0\n",
              "g1       0\n",
              "g2       0\n",
              "g3       0\n",
              "g4       0\n",
              "stabf    0\n",
              "dtype: int64"
            ]
          },
          "metadata": {},
          "execution_count": 114
        }
      ]
    },
    {
      "cell_type": "code",
      "metadata": {
        "id": "g56HmUaARdOD"
      },
      "source": [
        "#Since, there are no null values,we can now break the data into X(features) and y(to be predicted)\n",
        "\n",
        "X = df.drop('stabf',axis = 1)\n",
        "y = df['stabf']"
      ],
      "execution_count": 115,
      "outputs": []
    },
    {
      "cell_type": "code",
      "metadata": {
        "id": "ZyXn-16ERBTf"
      },
      "source": [
        "#We use train_test_split to split data into train and test sets\n",
        "\n",
        "from sklearn.model_selection import train_test_split\n",
        "X_train, X_test, y_train, y_test = train_test_split(X,y, test_size = 0.2, random_state = 1)"
      ],
      "execution_count": 116,
      "outputs": []
    },
    {
      "cell_type": "code",
      "metadata": {
        "id": "RGKsVxbeRG-D"
      },
      "source": [
        "#Scaling using StandardScaler\n",
        "\n",
        "from sklearn.preprocessing import StandardScaler\n",
        "stdsc = StandardScaler()\n",
        "X_train_scaled = pd.DataFrame(stdsc.fit_transform(X_train, y_train))\n",
        "X_test_scaled = pd.DataFrame(stdsc.transform(X_test))"
      ],
      "execution_count": 117,
      "outputs": []
    },
    {
      "cell_type": "code",
      "metadata": {
        "colab": {
          "base_uri": "https://localhost:8080/"
        },
        "id": "Eag0SkPEYFy-",
        "outputId": "671deefa-fe70-4106-ccc3-b97e9ad2006f"
      },
      "source": [
        "print (X_train_scaled.head())\n",
        "print (X_test_scaled.head())"
      ],
      "execution_count": 118,
      "outputs": [
        {
          "output_type": "stream",
          "name": "stdout",
          "text": [
            "         0         1         2   ...        9         10        11\n",
            "0  0.367327 -0.986042  0.650447  ...  0.339859  0.585568  0.492239\n",
            "1 -0.064659  0.089437  1.035079  ... -1.558488  1.429649 -1.443521\n",
            "2 -1.467850  1.298418 -0.502536  ...  1.451534 -1.045743  0.492489\n",
            "3  0.820081  0.529920  1.299657  ...  1.361958  1.604140  0.275303\n",
            "4  0.665424 -1.425627  0.312300  ...  0.695660  1.137504 -1.312575\n",
            "\n",
            "[5 rows x 12 columns]\n",
            "         0         1         2   ...        9         10        11\n",
            "0  0.593951 -0.412733  1.503924  ...  1.167203 -1.507330  1.084726\n",
            "1  0.202190  0.374416 -0.188800  ... -0.395660  1.414651  1.226011\n",
            "2 -1.079044 -0.313745 -0.884634  ... -1.438495  0.651821 -1.682168\n",
            "3 -0.083120 -1.107327  0.372805  ... -1.672322 -0.357714  1.055865\n",
            "4  0.873921  1.438466  0.086662  ... -1.469731  0.956396 -0.819727\n",
            "\n",
            "[5 rows x 12 columns]\n"
          ]
        }
      ]
    },
    {
      "cell_type": "code",
      "metadata": {
        "id": "fhwdnQ7rpUAQ"
      },
      "source": [
        "#Creating function to find metrics\n",
        "\n",
        "def met(y_test, y_pred, name):\n",
        "  print (' Name of model : ',name)\n",
        "  print ('\\n Accuracy score of model : ',\"{:.4f}\".format(accuracy_score(y_test,y_pred)))"
      ],
      "execution_count": 143,
      "outputs": []
    },
    {
      "cell_type": "code",
      "metadata": {
        "id": "rg5C1OlIZKa6"
      },
      "source": [
        "#RandomForestClassifier\n",
        "\n",
        "from sklearn.ensemble import RandomForestClassifier\n",
        "rf = RandomForestClassifier(random_state = 1)\n",
        "rf.fit(X_train_scaled,y_train)\n",
        "y_pred = rf.predict(X_test_scaled)"
      ],
      "execution_count": 144,
      "outputs": []
    },
    {
      "cell_type": "code",
      "metadata": {
        "colab": {
          "base_uri": "https://localhost:8080/"
        },
        "id": "iG5C-YvarJlT",
        "outputId": "7e31e5db-2dfc-4273-d74d-38663a98cc1f"
      },
      "source": [
        "#Checking the metrics for above model\n",
        "\n",
        "from sklearn.metrics import classification_report, confusion_matrix, accuracy_score\n",
        "met (y_test,y_pred,'Random Forest Classifier')"
      ],
      "execution_count": 145,
      "outputs": [
        {
          "output_type": "stream",
          "name": "stdout",
          "text": [
            " Name of model :  Random Forest Classifier\n",
            "\n",
            " Accuracy score of model :  0.9290\n"
          ]
        }
      ]
    },
    {
      "cell_type": "code",
      "metadata": {
        "id": "xP-48CqXqK_B"
      },
      "source": [
        "#ExtraTreesClassifier\n",
        "\n",
        "from sklearn.ensemble import ExtraTreesClassifier\n",
        "et = ExtraTreesClassifier (random_state = 1)\n",
        "et.fit(X_train_scaled,y_train)\n",
        "y_pred = et.predict(X_test_scaled)"
      ],
      "execution_count": 146,
      "outputs": []
    },
    {
      "cell_type": "code",
      "metadata": {
        "colab": {
          "base_uri": "https://localhost:8080/"
        },
        "id": "p5yt8CPyrAf_",
        "outputId": "cb57127b-16cc-43a7-f45e-df29e6fa5591"
      },
      "source": [
        "#Checking the metrics for above model\n",
        "\n",
        "from sklearn.metrics import classification_report, confusion_matrix, accuracy_score\n",
        "met (y_test,y_pred,'Extra Trees Classifier')"
      ],
      "execution_count": 147,
      "outputs": [
        {
          "output_type": "stream",
          "name": "stdout",
          "text": [
            " Name of model :  Extra Trees Classifier\n",
            "\n",
            " Accuracy score of model :  0.9280\n"
          ]
        }
      ]
    },
    {
      "cell_type": "code",
      "metadata": {
        "id": "LnZbN_xMrQ3G"
      },
      "source": [
        "#XGBoostClassifier\n",
        "\n",
        "from xgboost import XGBClassifier\n",
        "xgbc = XGBClassifier (random_state = 1)\n",
        "xgbc.fit(X_train_scaled,y_train)\n",
        "y_pred = xgbc.predict(X_test_scaled)"
      ],
      "execution_count": 148,
      "outputs": []
    },
    {
      "cell_type": "code",
      "metadata": {
        "colab": {
          "base_uri": "https://localhost:8080/"
        },
        "id": "OcQzEltescH_",
        "outputId": "7458960f-1dae-44d2-a47a-236acfde6e24"
      },
      "source": [
        "#Checking the metrics for above model\n",
        "\n",
        "from sklearn.metrics import classification_report, confusion_matrix, accuracy_score\n",
        "met (y_test,y_pred,'XGBoost Classifier')"
      ],
      "execution_count": 149,
      "outputs": [
        {
          "output_type": "stream",
          "name": "stdout",
          "text": [
            " Name of model :  XGBoost Classifier\n",
            "\n",
            " Accuracy score of model :  0.9195\n"
          ]
        }
      ]
    },
    {
      "cell_type": "code",
      "metadata": {
        "id": "AxrugIn9snXT"
      },
      "source": [
        "#LightGBMClassifier\n",
        "\n",
        "from lightgbm import LGBMClassifier\n",
        "lgbm = LGBMClassifier (random_state = 1)\n",
        "lgbm.fit(X_train_scaled,y_train)\n",
        "y_pred = lgbm.predict(X_test_scaled)"
      ],
      "execution_count": 150,
      "outputs": []
    },
    {
      "cell_type": "code",
      "metadata": {
        "colab": {
          "base_uri": "https://localhost:8080/"
        },
        "id": "B3dypAl_taeA",
        "outputId": "541ea00b-48a8-415e-956b-9803976080d8"
      },
      "source": [
        "#Checking the metrics for above model\n",
        "\n",
        "from sklearn.metrics import classification_report, confusion_matrix, accuracy_score\n",
        "met (y_test,y_pred,'LGBM Classifier')"
      ],
      "execution_count": 151,
      "outputs": [
        {
          "output_type": "stream",
          "name": "stdout",
          "text": [
            " Name of model :  LGBM Classifier\n",
            "\n",
            " Accuracy score of model :  0.9375\n"
          ]
        }
      ]
    },
    {
      "cell_type": "code",
      "metadata": {
        "colab": {
          "base_uri": "https://localhost:8080/"
        },
        "id": "YXdG_lEPteau",
        "outputId": "cf4b0a63-7a79-4012-96f3-8f8a7a9c7560"
      },
      "source": [
        "#Adding RandomizedSearchCV to ExtraTreesClassifier\n",
        "\n",
        "n_estimators = [50, 100, 300, 500, 1000]\n",
        "min_samples_split = [2, 3, 5, 7, 9]\n",
        "min_samples_leaf = [1, 2, 4, 6, 8]\n",
        "max_features = ['auto', 'sqrt', 'log2', None]\n",
        "hyperparameter_grid = {'n_estimators': n_estimators,'min_samples_leaf': min_samples_leaf,'min_samples_split': min_samples_split,'max_features': max_features}\n",
        "\n",
        "from sklearn.model_selection import RandomizedSearchCV\n",
        "eth = ExtraTreesClassifier (random_state = 1)\n",
        "rdcv = RandomizedSearchCV(eth, param_distributions = hyperparameter_grid, cv=5, n_iter=10, n_jobs=-1, verbose=1, random_state=1, scoring='accuracy')\n",
        "rdcv.fit(X_train_scaled,y_train)\n",
        "\n",
        "rdcv.best_params_"
      ],
      "execution_count": 152,
      "outputs": [
        {
          "output_type": "stream",
          "name": "stdout",
          "text": [
            "Fitting 5 folds for each of 10 candidates, totalling 50 fits\n"
          ]
        },
        {
          "output_type": "stream",
          "name": "stderr",
          "text": [
            "[Parallel(n_jobs=-1)]: Using backend LokyBackend with 2 concurrent workers.\n",
            "[Parallel(n_jobs=-1)]: Done  46 tasks      | elapsed:  1.4min\n",
            "[Parallel(n_jobs=-1)]: Done  50 out of  50 | elapsed:  1.5min finished\n"
          ]
        },
        {
          "output_type": "execute_result",
          "data": {
            "text/plain": [
              "{'max_features': None,\n",
              " 'min_samples_leaf': 8,\n",
              " 'min_samples_split': 2,\n",
              " 'n_estimators': 1000}"
            ]
          },
          "metadata": {},
          "execution_count": 152
        }
      ]
    },
    {
      "cell_type": "code",
      "metadata": {
        "id": "34jMak_DvGjt"
      },
      "source": [
        "#Using best parameters for ExtraTreesClassifier\n",
        "\n",
        "etc_best = ExtraTreesClassifier(random_state=1, max_features=None,min_samples_leaf=8,min_samples_split=2, n_estimators=1000)\n",
        "etc_best.fit(X_train_scaled, y_train)\n",
        "y_pred = etc_best.predict(X_test_scaled)"
      ],
      "execution_count": 153,
      "outputs": []
    },
    {
      "cell_type": "code",
      "metadata": {
        "colab": {
          "base_uri": "https://localhost:8080/"
        },
        "id": "bk7_OneXwJsD",
        "outputId": "dfa0bef0-dfb8-4ac6-921c-0251f5f6b3b8"
      },
      "source": [
        "#Checking the metrics for above model\n",
        "\n",
        "from sklearn.metrics import classification_report, confusion_matrix, accuracy_score\n",
        "met (y_test,y_pred,'Extra Trees Classifier with best parameters')"
      ],
      "execution_count": 154,
      "outputs": [
        {
          "output_type": "stream",
          "name": "stdout",
          "text": [
            " Name of model :  Extra Trees Classifier with best parameters\n",
            "\n",
            " Accuracy score of model :  0.9270\n"
          ]
        }
      ]
    },
    {
      "cell_type": "markdown",
      "metadata": {
        "id": "fpBUHEWt1EhH"
      },
      "source": [
        "#Accuracy of the models evaluated :\n",
        "\n",
        "\n",
        "\n",
        "*   Random Forest Classifier : 92.9%\n",
        "*   Extra Trees Classifier : 92.8%\n",
        "*   XGBoost Classifier : 91.95%\n",
        "*   LGBM Classifier : 93.75%\n",
        "*   Extra Trees Classifier (with best parameters) : 92.7%\n",
        "\n",
        "\n",
        "\n"
      ]
    },
    {
      "cell_type": "code",
      "metadata": {
        "id": "-ypcSW0wEKKQ"
      },
      "source": [
        "#Extra Trees Classifier with optimal parameters has lower accuracy than Extra Trees Classifier with no Hyperparameter Tuning"
      ],
      "execution_count": 159,
      "outputs": []
    },
    {
      "cell_type": "code",
      "metadata": {
        "colab": {
          "base_uri": "https://localhost:8080/"
        },
        "id": "FAmQXhJF4oK2",
        "outputId": "20352a9d-3c63-4791-c585-744476f92418"
      },
      "source": [
        "#Finding F1 score\n",
        "\n",
        "355/(355 + (0.5*(1480 + 45)))"
      ],
      "execution_count": 160,
      "outputs": [
        {
          "output_type": "execute_result",
          "data": {
            "text/plain": [
              "0.31767337807606266"
            ]
          },
          "metadata": {},
          "execution_count": 160
        }
      ]
    },
    {
      "cell_type": "code",
      "metadata": {
        "colab": {
          "base_uri": "https://localhost:8080/",
          "height": 418
        },
        "id": "XChnkMm65LZk",
        "outputId": "a38c9a87-8e80-4d61-ca37-c8e1c3590e53"
      },
      "source": [
        "#Finding feature importances for Optimal Extra Trees Classifier model\n",
        "\n",
        "fimp = etc_best.feature_importances_\n",
        "fimp = pd.DataFrame(fimp, index = X_train.columns, columns = ['Feature Importance'])\n",
        "fimp"
      ],
      "execution_count": 161,
      "outputs": [
        {
          "output_type": "execute_result",
          "data": {
            "text/html": [
              "<div>\n",
              "<style scoped>\n",
              "    .dataframe tbody tr th:only-of-type {\n",
              "        vertical-align: middle;\n",
              "    }\n",
              "\n",
              "    .dataframe tbody tr th {\n",
              "        vertical-align: top;\n",
              "    }\n",
              "\n",
              "    .dataframe thead th {\n",
              "        text-align: right;\n",
              "    }\n",
              "</style>\n",
              "<table border=\"1\" class=\"dataframe\">\n",
              "  <thead>\n",
              "    <tr style=\"text-align: right;\">\n",
              "      <th></th>\n",
              "      <th>Feature Importance</th>\n",
              "    </tr>\n",
              "  </thead>\n",
              "  <tbody>\n",
              "    <tr>\n",
              "      <th>tau1</th>\n",
              "      <td>0.137240</td>\n",
              "    </tr>\n",
              "    <tr>\n",
              "      <th>tau2</th>\n",
              "      <td>0.140508</td>\n",
              "    </tr>\n",
              "    <tr>\n",
              "      <th>tau3</th>\n",
              "      <td>0.134680</td>\n",
              "    </tr>\n",
              "    <tr>\n",
              "      <th>tau4</th>\n",
              "      <td>0.135417</td>\n",
              "    </tr>\n",
              "    <tr>\n",
              "      <th>p1</th>\n",
              "      <td>0.003683</td>\n",
              "    </tr>\n",
              "    <tr>\n",
              "      <th>p2</th>\n",
              "      <td>0.005337</td>\n",
              "    </tr>\n",
              "    <tr>\n",
              "      <th>p3</th>\n",
              "      <td>0.005429</td>\n",
              "    </tr>\n",
              "    <tr>\n",
              "      <th>p4</th>\n",
              "      <td>0.004962</td>\n",
              "    </tr>\n",
              "    <tr>\n",
              "      <th>g1</th>\n",
              "      <td>0.102562</td>\n",
              "    </tr>\n",
              "    <tr>\n",
              "      <th>g2</th>\n",
              "      <td>0.107578</td>\n",
              "    </tr>\n",
              "    <tr>\n",
              "      <th>g3</th>\n",
              "      <td>0.113063</td>\n",
              "    </tr>\n",
              "    <tr>\n",
              "      <th>g4</th>\n",
              "      <td>0.109541</td>\n",
              "    </tr>\n",
              "  </tbody>\n",
              "</table>\n",
              "</div>"
            ],
            "text/plain": [
              "      Feature Importance\n",
              "tau1            0.137240\n",
              "tau2            0.140508\n",
              "tau3            0.134680\n",
              "tau4            0.135417\n",
              "p1              0.003683\n",
              "p2              0.005337\n",
              "p3              0.005429\n",
              "p4              0.004962\n",
              "g1              0.102562\n",
              "g2              0.107578\n",
              "g3              0.113063\n",
              "g4              0.109541"
            ]
          },
          "metadata": {},
          "execution_count": 161
        }
      ]
    },
    {
      "cell_type": "code",
      "metadata": {
        "colab": {
          "base_uri": "https://localhost:8080/"
        },
        "id": "MYmj1lGLE5zW",
        "outputId": "377ead67-a955-43f6-afed-abeac0d7f1e2"
      },
      "source": [
        "#Most and least important features\n",
        "\n",
        "print(fimp['Feature Importance'].idxmax())\n",
        "print(fimp['Feature Importance'].idxmin())"
      ],
      "execution_count": 162,
      "outputs": [
        {
          "output_type": "stream",
          "name": "stdout",
          "text": [
            "tau2\n",
            "p1\n"
          ]
        }
      ]
    },
    {
      "cell_type": "code",
      "metadata": {
        "id": "6J7F-_5qICfx"
      },
      "source": [
        ""
      ],
      "execution_count": 162,
      "outputs": []
    }
  ]
}